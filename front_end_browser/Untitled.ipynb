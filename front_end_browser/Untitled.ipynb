{
 "cells": [
  {
   "cell_type": "code",
   "execution_count": 21,
   "metadata": {},
   "outputs": [
    {
     "name": "stdout",
     "output_type": "stream",
     "text": [
      "Overwriting heatmap_firebase.py\n"
     ]
    }
   ],
   "source": [
    "%%writefile heatmap_firebase.py\n",
    "\n",
    "from flask import Flask, request, Response, render_template\n",
    "import json\n",
    "import logging\n",
    "import random\n",
    "import numpy as np\n",
    "\n",
    "import firebase_admin\n",
    "from firebase_admin import credentials\n",
    "from firebase_admin import db\n",
    "\n",
    "cred = credentials.Certificate(\"../../admin key/dynamic-deployment-firebase-adminsdk-nx8lh-0a96741e77.json\")\n",
    "\n",
    "default_app = firebase_admin.initialize_app(cred, {'databaseURL': \"https://dynamic-deployment.firebaseio.com/\"})\n",
    "\n",
    "ref = db.reference('testData/')\n",
    "\n",
    "app = Flask(__name__)\n",
    "\n",
    "db = np.array(ref.get())\n",
    "\n",
    "def getPoints(offset=0):\n",
    "        d = db[-1-offset]\n",
    "        return {i+1:d[i].tolist() for i in range(d.shape[0])}\n",
    "    \n",
    "@app.route('/')\n",
    "def home():\n",
    "    data = getPoints()\n",
    "\n",
    "    l = len(data.keys())\n",
    "    \n",
    "    return render_template('heatmap.html', co_data = data, co_lenth = l)"
   ]
  }
 ],
 "metadata": {
  "kernelspec": {
   "display_name": "Python 3",
   "language": "python",
   "name": "python3"
  },
  "language_info": {
   "codemirror_mode": {
    "name": "ipython",
    "version": 3
   },
   "file_extension": ".py",
   "mimetype": "text/x-python",
   "name": "python",
   "nbconvert_exporter": "python",
   "pygments_lexer": "ipython3",
   "version": "3.7.4"
  }
 },
 "nbformat": 4,
 "nbformat_minor": 2
}
