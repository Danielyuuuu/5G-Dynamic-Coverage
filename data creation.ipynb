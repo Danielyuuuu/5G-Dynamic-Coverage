{
 "cells": [
  {
   "cell_type": "code",
   "execution_count": 6,
   "metadata": {},
   "outputs": [],
   "source": [
    "import numpy as np\n",
    "import pandas as pd\n",
    "import json"
   ]
  },
  {
   "cell_type": "code",
   "execution_count": 7,
   "metadata": {},
   "outputs": [],
   "source": [
    "df = pd.read_csv(\"Latency_Data/Hourly_data/moffit_latency_3:2.csv\")"
   ]
  },
  {
   "cell_type": "code",
   "execution_count": 8,
   "metadata": {},
   "outputs": [
    {
     "data": {
      "text/html": [
       "<div>\n",
       "<style scoped>\n",
       "    .dataframe tbody tr th:only-of-type {\n",
       "        vertical-align: middle;\n",
       "    }\n",
       "\n",
       "    .dataframe tbody tr th {\n",
       "        vertical-align: top;\n",
       "    }\n",
       "\n",
       "    .dataframe thead th {\n",
       "        text-align: right;\n",
       "    }\n",
       "</style>\n",
       "<table border=\"1\" class=\"dataframe\">\n",
       "  <thead>\n",
       "    <tr style=\"text-align: right;\">\n",
       "      <th></th>\n",
       "      <th>Unnamed: 0</th>\n",
       "      <th>Hour</th>\n",
       "      <th>Monday</th>\n",
       "      <th>Tuesday</th>\n",
       "      <th>Wednesday</th>\n",
       "      <th>Thursday</th>\n",
       "      <th>Friday</th>\n",
       "      <th>Saturday</th>\n",
       "      <th>Sunday</th>\n",
       "    </tr>\n",
       "  </thead>\n",
       "  <tbody>\n",
       "    <tr>\n",
       "      <td>0</td>\n",
       "      <td>0</td>\n",
       "      <td>0</td>\n",
       "      <td>61.768</td>\n",
       "      <td>65.961</td>\n",
       "      <td>47.836</td>\n",
       "      <td>44.450</td>\n",
       "      <td>54.373</td>\n",
       "      <td>48.950</td>\n",
       "      <td>27.964</td>\n",
       "    </tr>\n",
       "    <tr>\n",
       "      <td>1</td>\n",
       "      <td>28</td>\n",
       "      <td>0</td>\n",
       "      <td>56.766</td>\n",
       "      <td>69.586</td>\n",
       "      <td>64.682</td>\n",
       "      <td>56.897</td>\n",
       "      <td>38.494</td>\n",
       "      <td>28.365</td>\n",
       "      <td>39.650</td>\n",
       "    </tr>\n",
       "    <tr>\n",
       "      <td>2</td>\n",
       "      <td>29</td>\n",
       "      <td>0</td>\n",
       "      <td>49.889</td>\n",
       "      <td>55.008</td>\n",
       "      <td>51.850</td>\n",
       "      <td>58.600</td>\n",
       "      <td>62.582</td>\n",
       "      <td>42.626</td>\n",
       "      <td>43.705</td>\n",
       "    </tr>\n",
       "    <tr>\n",
       "      <td>3</td>\n",
       "      <td>30</td>\n",
       "      <td>0</td>\n",
       "      <td>70.273</td>\n",
       "      <td>56.915</td>\n",
       "      <td>74.950</td>\n",
       "      <td>54.930</td>\n",
       "      <td>69.379</td>\n",
       "      <td>42.461</td>\n",
       "      <td>37.853</td>\n",
       "    </tr>\n",
       "    <tr>\n",
       "      <td>4</td>\n",
       "      <td>31</td>\n",
       "      <td>0</td>\n",
       "      <td>39.157</td>\n",
       "      <td>50.195</td>\n",
       "      <td>61.010</td>\n",
       "      <td>57.462</td>\n",
       "      <td>51.474</td>\n",
       "      <td>40.751</td>\n",
       "      <td>74.039</td>\n",
       "    </tr>\n",
       "  </tbody>\n",
       "</table>\n",
       "</div>"
      ],
      "text/plain": [
       "   Unnamed: 0  Hour  Monday  Tuesday  Wednesday  Thursday  Friday  Saturday  \\\n",
       "0           0     0  61.768   65.961     47.836    44.450  54.373    48.950   \n",
       "1          28     0  56.766   69.586     64.682    56.897  38.494    28.365   \n",
       "2          29     0  49.889   55.008     51.850    58.600  62.582    42.626   \n",
       "3          30     0  70.273   56.915     74.950    54.930  69.379    42.461   \n",
       "4          31     0  39.157   50.195     61.010    57.462  51.474    40.751   \n",
       "\n",
       "   Sunday  \n",
       "0  27.964  \n",
       "1  39.650  \n",
       "2  43.705  \n",
       "3  37.853  \n",
       "4  74.039  "
      ]
     },
     "execution_count": 8,
     "metadata": {},
     "output_type": "execute_result"
    }
   ],
   "source": [
    "df.head()"
   ]
  },
  {
   "cell_type": "code",
   "execution_count": 9,
   "metadata": {},
   "outputs": [
    {
     "data": {
      "text/plain": [
       "(1200, 9)"
      ]
     },
     "execution_count": 9,
     "metadata": {},
     "output_type": "execute_result"
    }
   ],
   "source": [
    "df.shape"
   ]
  },
  {
   "cell_type": "code",
   "execution_count": 15,
   "metadata": {},
   "outputs": [],
   "source": [
    "loc_map = {2:[37.8726, -122.2607], 3:[37.8692, -122.2597], 4:[37.8703, -122.2581],\n",
    "          5:[37.8752, -122.2615], 6:[37.8756, -122.2588], 7:[37.8753, -122.256], 8:[37.871716, -122.264999]}"
   ]
  },
  {
   "cell_type": "code",
   "execution_count": 32,
   "metadata": {},
   "outputs": [],
   "source": [
    "j_data = {'testData':{}}\n",
    "\n",
    "for i in range(data.shape[0]):\n",
    "    j_data['testData'][i] = {}\n",
    "    for j in range(2, data.shape[1]):\n",
    "        j_data['testData'][i][j-2] = loc_map[j] + [df.iloc[i,j]]"
   ]
  },
  {
   "cell_type": "code",
   "execution_count": 35,
   "metadata": {},
   "outputs": [],
   "source": [
    "with open('test.json', 'w') as outfile:\n",
    "    json.dump(j_data, outfile)"
   ]
  },
  {
   "cell_type": "code",
   "execution_count": 29,
   "metadata": {},
   "outputs": [],
   "source": [
    "reset = {1:1}"
   ]
  },
  {
   "cell_type": "code",
   "execution_count": 30,
   "metadata": {},
   "outputs": [],
   "source": [
    "with open('reset.json', 'w') as outfile:\n",
    "    json.dump(reset, outfile)"
   ]
  },
  {
   "cell_type": "code",
   "execution_count": 39,
   "metadata": {},
   "outputs": [
    {
     "data": {
      "text/plain": [
       "{0: [37.8726, -122.2607, 61.768],\n",
       " 1: [37.8692, -122.2597, 65.961],\n",
       " 2: [37.8703, -122.2581, 47.836000000000006],\n",
       " 3: [37.8752, -122.2615, 44.45],\n",
       " 4: [37.8756, -122.2588, 54.373000000000005],\n",
       " 5: [37.8753, -122.256, 48.95],\n",
       " 6: [37.871716, -122.264999, 27.964000000000002]}"
      ]
     },
     "execution_count": 39,
     "metadata": {},
     "output_type": "execute_result"
    }
   ],
   "source": [
    "j_data['testData'][0]"
   ]
  },
  {
   "cell_type": "code",
   "execution_count": null,
   "metadata": {},
   "outputs": [],
   "source": []
  }
 ],
 "metadata": {
  "kernelspec": {
   "display_name": "Python 3",
   "language": "python",
   "name": "python3"
  },
  "language_info": {
   "codemirror_mode": {
    "name": "ipython",
    "version": 3
   },
   "file_extension": ".py",
   "mimetype": "text/x-python",
   "name": "python",
   "nbconvert_exporter": "python",
   "pygments_lexer": "ipython3",
   "version": "3.7.4"
  }
 },
 "nbformat": 4,
 "nbformat_minor": 2
}
